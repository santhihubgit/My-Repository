{
  "cells": [
    {
      "cell_type": "markdown",
      "metadata": {
        "id": "view-in-github",
        "colab_type": "text"
      },
      "source": [
        "<a href=\"https://colab.research.google.com/github/santhihubgit/My-Repository/blob/master/Interview_questions.ipynb\" target=\"_parent\"><img src=\"https://colab.research.google.com/assets/colab-badge.svg\" alt=\"Open In Colab\"/></a>"
      ]
    },
    {
      "cell_type": "code",
      "execution_count": null,
      "id": "e0fe841f",
      "metadata": {
        "id": "e0fe841f",
        "outputId": "68c9683c-ab90-49e2-aecb-437ed7024f0a"
      },
      "outputs": [
        {
          "data": {
            "text/plain": [
              "5"
            ]
          },
          "execution_count": 1,
          "metadata": {},
          "output_type": "execute_result"
        }
      ],
      "source": [
        "2+3"
      ]
    },
    {
      "cell_type": "markdown",
      "id": "2778c248-a71f-48e1-95c0-75e05ddfb42b",
      "metadata": {
        "id": "2778c248-a71f-48e1-95c0-75e05ddfb42b"
      },
      "source": [
        "# 1. Assign a value to the variable and print the variable."
      ]
    },
    {
      "cell_type": "code",
      "execution_count": null,
      "id": "37877061",
      "metadata": {
        "id": "37877061",
        "outputId": "e4c10586-b6be-4565-d1fb-ebdc2ac0c5d0"
      },
      "outputs": [
        {
          "name": "stdout",
          "output_type": "stream",
          "text": [
            "Variable\n",
            "Variable\n",
            "Variable\n"
          ]
        }
      ],
      "source": [
        "\n",
        "# Creating variables\n",
        "\n",
        "x=y=z=\"Variable\"\n",
        "\n",
        "print(x)\n",
        "print(y)\n",
        "print(z)\n"
      ]
    },
    {
      "cell_type": "code",
      "execution_count": null,
      "id": "596f9aae-2a4e-49ec-a7cb-1228788c77f1",
      "metadata": {
        "id": "596f9aae-2a4e-49ec-a7cb-1228788c77f1",
        "outputId": "fb3e384c-5c99-4bd1-c441-f052a7ea6e30"
      },
      "outputs": [
        {
          "name": "stdout",
          "output_type": "stream",
          "text": [
            "VariableVariable\n"
          ]
        }
      ],
      "source": [
        "b= x+y\n",
        "\n",
        "print(b)\n"
      ]
    },
    {
      "cell_type": "code",
      "execution_count": null,
      "id": "a758450c-a6be-4c53-9a3c-1d6388a5e947",
      "metadata": {
        "id": "a758450c-a6be-4c53-9a3c-1d6388a5e947"
      },
      "outputs": [],
      "source": []
    },
    {
      "cell_type": "code",
      "execution_count": null,
      "id": "83dd4064-54b0-407d-bd0b-93e56ae0251c",
      "metadata": {
        "id": "83dd4064-54b0-407d-bd0b-93e56ae0251c",
        "outputId": "870d9417-6411-4eb6-a466-d085821b98d2"
      },
      "outputs": [
        {
          "data": {
            "text/plain": [
              "True"
            ]
          },
          "execution_count": 6,
          "metadata": {},
          "output_type": "execute_result"
        }
      ],
      "source": [
        "## Comparision operators -- \"==\",\"<\",\">\",\">=\",\"<=\"\n",
        "x= y==z\n",
        "x\n",
        "\n",
        "## These are called equality comparision operators"
      ]
    },
    {
      "cell_type": "code",
      "execution_count": null,
      "id": "9358363b-8f81-4fc8-b001-d8381dce171a",
      "metadata": {
        "id": "9358363b-8f81-4fc8-b001-d8381dce171a",
        "outputId": "c1f9c32d-a042-4b11-97d3-01b40cfe1d5d"
      },
      "outputs": [
        {
          "data": {
            "text/plain": [
              "True"
            ]
          },
          "execution_count": 5,
          "metadata": {},
          "output_type": "execute_result"
        }
      ],
      "source": [
        "x=y>=z\n",
        "x"
      ]
    },
    {
      "cell_type": "code",
      "execution_count": null,
      "id": "e8688cfe-f729-4d3a-9a94-406d91c166f1",
      "metadata": {
        "id": "e8688cfe-f729-4d3a-9a94-406d91c166f1"
      },
      "outputs": [],
      "source": []
    },
    {
      "cell_type": "code",
      "execution_count": null,
      "id": "a70d4fdf-9659-4f38-aaf6-f65864ee40cc",
      "metadata": {
        "id": "a70d4fdf-9659-4f38-aaf6-f65864ee40cc",
        "outputId": "2b2338b0-f053-498c-bcc9-7c3ce3a425dc"
      },
      "outputs": [
        {
          "name": "stdout",
          "output_type": "stream",
          "text": [
            "4.2\n",
            "5\n",
            "Hello\n"
          ]
        }
      ],
      "source": [
        "a,b,c = 4.2,5,\"Hello\"\n",
        "\n",
        "print(a)\n",
        "print(b)\n",
        "print(c)"
      ]
    },
    {
      "cell_type": "code",
      "execution_count": null,
      "id": "2d7343e3-252e-41f7-81b9-77b6cf7165c7",
      "metadata": {
        "id": "2d7343e3-252e-41f7-81b9-77b6cf7165c7"
      },
      "outputs": [],
      "source": []
    },
    {
      "cell_type": "code",
      "execution_count": null,
      "id": "c28fc5ab-b94a-4252-ae3b-9e6f23da5c5b",
      "metadata": {
        "scrolled": true,
        "id": "c28fc5ab-b94a-4252-ae3b-9e6f23da5c5b",
        "outputId": "09f261ba-6b84-4e60-c696-c1b47c61b416"
      },
      "outputs": [
        {
          "name": "stdout",
          "output_type": "stream",
          "text": [
            "Red\n",
            "Yellow\n"
          ]
        }
      ],
      "source": [
        "color_a =\"Red\"\n",
        "color_b=\"Yellow\"\n",
        "\n",
        "print(color_a)\n",
        "print(color_b)"
      ]
    },
    {
      "cell_type": "code",
      "execution_count": null,
      "id": "52465b4c-52fb-4292-b17e-593b429f624d",
      "metadata": {
        "id": "52465b4c-52fb-4292-b17e-593b429f624d",
        "outputId": "c2c74eba-8700-4ab4-d37b-450228ad312c"
      },
      "outputs": [
        {
          "name": "stdout",
          "output_type": "stream",
          "text": [
            "Red Yellow\n"
          ]
        }
      ],
      "source": [
        "print(color_a,color_b)"
      ]
    },
    {
      "cell_type": "code",
      "execution_count": null,
      "id": "fb216f6c-4d3b-45f0-8cea-5a7094ca9286",
      "metadata": {
        "id": "fb216f6c-4d3b-45f0-8cea-5a7094ca9286",
        "outputId": "c28e8819-74c9-4961-aa8c-c5385dc1db4c"
      },
      "outputs": [
        {
          "name": "stdout",
          "output_type": "stream",
          "text": [
            "Red Yellow Red\n"
          ]
        }
      ],
      "source": [
        "color_c = color_a\n",
        "\n",
        "print(color_a,color_b,color_c)"
      ]
    },
    {
      "cell_type": "code",
      "execution_count": null,
      "id": "fc8b3a99-84fb-4ba6-baf8-9e02a3ef9081",
      "metadata": {
        "id": "fc8b3a99-84fb-4ba6-baf8-9e02a3ef9081"
      },
      "outputs": [],
      "source": []
    },
    {
      "cell_type": "markdown",
      "id": "d65ae80e-6d8d-4ab0-9cf9-240b07e4c4c2",
      "metadata": {
        "id": "d65ae80e-6d8d-4ab0-9cf9-240b07e4c4c2"
      },
      "source": [
        "# Create any array of at least 6 values. Using array slicing methods, print the 4th value."
      ]
    },
    {
      "cell_type": "code",
      "execution_count": null,
      "id": "a95b78e7-6e0a-46fe-ae02-c5c98e9a1fa5",
      "metadata": {
        "id": "a95b78e7-6e0a-46fe-ae02-c5c98e9a1fa5",
        "outputId": "406a2db0-b072-4eac-91f4-d4adf44e1bb7"
      },
      "outputs": [
        {
          "data": {
            "text/plain": [
              "array([0., 0., 0., 0., 0.])"
            ]
          },
          "execution_count": 21,
          "metadata": {},
          "output_type": "execute_result"
        }
      ],
      "source": [
        "# creating array using zero method\n",
        "\n",
        "import numpy as np\n",
        "\n",
        "array= np.zeros(5)\n",
        "array"
      ]
    },
    {
      "cell_type": "code",
      "execution_count": null,
      "id": "5ed98442-f81d-4486-a2aa-d668538b04c3",
      "metadata": {
        "id": "5ed98442-f81d-4486-a2aa-d668538b04c3",
        "outputId": "b8f5ce50-ff8d-45f0-b896-52d7fde28482"
      },
      "outputs": [
        {
          "data": {
            "text/plain": [
              "array([1., 1., 1., 1., 1., 1.])"
            ]
          },
          "execution_count": 22,
          "metadata": {},
          "output_type": "execute_result"
        }
      ],
      "source": [
        "# creating array using ones method\n",
        "\n",
        "a6 = np.ones(6)\n",
        "a6"
      ]
    },
    {
      "cell_type": "code",
      "execution_count": null,
      "id": "54b61342-5c36-4d64-94a0-732f9992ff33",
      "metadata": {
        "scrolled": true,
        "id": "54b61342-5c36-4d64-94a0-732f9992ff33",
        "outputId": "f3514212-ed67-4945-c72d-83c7c1ba65be"
      },
      "outputs": [
        {
          "data": {
            "text/plain": [
              "array([[0., 0., 0., 0., 0., 0.],\n",
              "       [0., 0., 0., 0., 0., 0.]])"
            ]
          },
          "execution_count": 26,
          "metadata": {},
          "output_type": "execute_result"
        }
      ],
      "source": [
        "a1 = np.zeros((2,6))\n",
        "a1"
      ]
    },
    {
      "cell_type": "code",
      "execution_count": null,
      "id": "e88c9e9f-f342-4886-931e-2d45a3fb6dfc",
      "metadata": {
        "id": "e88c9e9f-f342-4886-931e-2d45a3fb6dfc",
        "outputId": "d5d47e9a-c53b-468e-dc7a-dbd1332ca8a8"
      },
      "outputs": [
        {
          "data": {
            "text/plain": [
              "array([[1., 1., 1., 1., 1., 1.]])"
            ]
          },
          "execution_count": 29,
          "metadata": {},
          "output_type": "execute_result"
        }
      ],
      "source": [
        "a1 = np.ones((1,6))\n",
        "\n",
        "a1"
      ]
    },
    {
      "cell_type": "code",
      "execution_count": null,
      "id": "8e70d3a1-0d4d-4494-90ce-1e81a10a4e33",
      "metadata": {
        "id": "8e70d3a1-0d4d-4494-90ce-1e81a10a4e33"
      },
      "outputs": [],
      "source": []
    },
    {
      "cell_type": "code",
      "execution_count": null,
      "id": "905f27b5-f6e1-4f58-b799-185fddfc3870",
      "metadata": {
        "id": "905f27b5-f6e1-4f58-b799-185fddfc3870",
        "outputId": "a989d219-d9f2-465d-a2a9-4e62d668121f"
      },
      "outputs": [
        {
          "data": {
            "text/plain": [
              "array([ 1.,  2.,  3.,  4.,  5.,  6.,  7.,  8.,  9., 10.])"
            ]
          },
          "execution_count": 31,
          "metadata": {},
          "output_type": "execute_result"
        }
      ],
      "source": [
        "# creating array using linspace method function\n",
        "\n",
        "x1 = np.linspace(1,10,10)\n",
        "x1"
      ]
    },
    {
      "cell_type": "code",
      "execution_count": null,
      "id": "5f15c027-d837-4193-98a3-afef8603e279",
      "metadata": {
        "id": "5f15c027-d837-4193-98a3-afef8603e279",
        "outputId": "45ccb5e0-51ec-4b21-ebb9-45db6006549c"
      },
      "outputs": [
        {
          "name": "stdout",
          "output_type": "stream",
          "text": [
            "40\n"
          ]
        }
      ],
      "source": [
        "# Create any array of at least 6 values. Using array slicing methods, print the 4th value.\n",
        "\n",
        "array = [10,20,30,40,50,60]\n",
        "\n",
        "print(array[3])"
      ]
    },
    {
      "cell_type": "code",
      "execution_count": null,
      "id": "6b2b4c05-15e0-4629-9229-2b1fcf78172a",
      "metadata": {
        "id": "6b2b4c05-15e0-4629-9229-2b1fcf78172a"
      },
      "outputs": [],
      "source": []
    },
    {
      "cell_type": "markdown",
      "id": "638c0d02-a505-44b4-887d-0a3d08bad89c",
      "metadata": {
        "id": "638c0d02-a505-44b4-887d-0a3d08bad89c"
      },
      "source": [
        "# 3. Assign any string to a variable and reverse the string."
      ]
    },
    {
      "cell_type": "code",
      "execution_count": null,
      "id": "a2be06b6-578c-41ea-9d1e-7c0fa0234153",
      "metadata": {
        "id": "a2be06b6-578c-41ea-9d1e-7c0fa0234153",
        "outputId": "d8750271-bb25-48d6-ae73-65416efa5b6c"
      },
      "outputs": [
        {
          "name": "stdout",
          "output_type": "stream",
          "text": [
            "Python Jupyter\n"
          ]
        }
      ],
      "source": [
        "## strings in python\n",
        "\n",
        "## str\n",
        "\n",
        "string1 = \"Python Jupyter\"\n",
        "\n",
        "print(string1)\n",
        "\n"
      ]
    },
    {
      "cell_type": "code",
      "execution_count": null,
      "id": "89a80d26-783d-4378-aab3-38a8afa30e1d",
      "metadata": {
        "scrolled": true,
        "id": "89a80d26-783d-4378-aab3-38a8afa30e1d",
        "outputId": "47a99957-37bf-49c1-8585-c9d6c0ebd69c"
      },
      "outputs": [
        {
          "name": "stdout",
          "output_type": "stream",
          "text": [
            "P\n"
          ]
        }
      ],
      "source": [
        "print(string1[0])"
      ]
    },
    {
      "cell_type": "code",
      "execution_count": null,
      "id": "697cb55e-35cc-4ca4-ba00-464921efb0b8",
      "metadata": {
        "id": "697cb55e-35cc-4ca4-ba00-464921efb0b8",
        "outputId": "f228b8bf-9ebd-4d6f-bbee-f678640550e7"
      },
      "outputs": [
        {
          "name": "stdout",
          "output_type": "stream",
          "text": [
            "o\n"
          ]
        }
      ],
      "source": [
        "print(string1[4])"
      ]
    },
    {
      "cell_type": "code",
      "execution_count": null,
      "id": "a0cbd843-7f68-4a4f-86d7-3846f9a38d6d",
      "metadata": {
        "id": "a0cbd843-7f68-4a4f-86d7-3846f9a38d6d",
        "outputId": "7fd0e3e0-8481-49cf-fcb7-11faa65e9df5"
      },
      "outputs": [
        {
          "name": "stdout",
          "output_type": "stream",
          "text": [
            "r\n"
          ]
        }
      ],
      "source": [
        "print(string1[-1])"
      ]
    },
    {
      "cell_type": "code",
      "execution_count": null,
      "id": "6a3fed6e-b448-4ae3-b7ee-a3dfbb0abc5d",
      "metadata": {
        "id": "6a3fed6e-b448-4ae3-b7ee-a3dfbb0abc5d",
        "outputId": "05087bb9-2ac0-4f80-93fd-906144978a4b"
      },
      "outputs": [
        {
          "name": "stdout",
          "output_type": "stream",
          "text": [
            "Python\n"
          ]
        }
      ],
      "source": [
        "print(string1[0:6])"
      ]
    },
    {
      "cell_type": "code",
      "execution_count": null,
      "id": "b63f6cf2-a23f-4f99-a08d-924c6b6d8902",
      "metadata": {
        "id": "b63f6cf2-a23f-4f99-a08d-924c6b6d8902",
        "outputId": "80aa8ad6-ccff-4fed-f82b-8c37ae711c54"
      },
      "outputs": [
        {
          "name": "stdout",
          "output_type": "stream",
          "text": [
            "Python\n"
          ]
        }
      ],
      "source": [
        "print(string1[0:6:1])"
      ]
    },
    {
      "cell_type": "code",
      "execution_count": null,
      "id": "1e95e198-abf7-4e19-878b-1d43b7131fed",
      "metadata": {
        "id": "1e95e198-abf7-4e19-878b-1d43b7131fed",
        "outputId": "6deccf8a-5fc1-4702-a47a-379375e9f46d"
      },
      "outputs": [
        {
          "name": "stdout",
          "output_type": "stream",
          "text": [
            "Pto\n"
          ]
        }
      ],
      "source": [
        "print(string1[0:6:2])"
      ]
    },
    {
      "cell_type": "code",
      "execution_count": null,
      "id": "36558c3e-b8b4-44b7-a833-041c712b3b0d",
      "metadata": {
        "scrolled": true,
        "id": "36558c3e-b8b4-44b7-a833-041c712b3b0d",
        "outputId": "c4292704-b6cd-4494-ea43-de3ca7a773ae"
      },
      "outputs": [
        {
          "name": "stdout",
          "output_type": "stream",
          "text": [
            "Ph\n"
          ]
        }
      ],
      "source": [
        "print(string1[0:6:3])"
      ]
    },
    {
      "cell_type": "code",
      "execution_count": null,
      "id": "17875728-0be2-4af8-8734-891d8cd44e94",
      "metadata": {
        "id": "17875728-0be2-4af8-8734-891d8cd44e94",
        "outputId": "905c7556-a651-4fb1-ef7b-27577b881d0a"
      },
      "outputs": [
        {
          "name": "stdout",
          "output_type": "stream",
          "text": [
            "Python Jupyter\n"
          ]
        }
      ],
      "source": [
        "a = \"Python\"\n",
        "b= \" Jupyter\"\n",
        "c = a+b\n",
        "\n",
        "print(c)"
      ]
    },
    {
      "cell_type": "code",
      "execution_count": null,
      "id": "6f5ed07c-0f7c-4c38-bdca-45c93775c528",
      "metadata": {
        "id": "6f5ed07c-0f7c-4c38-bdca-45c93775c528",
        "outputId": "4c313acf-3a50-4d55-c417-b9fa7d547f1f"
      },
      "outputs": [
        {
          "name": "stdout",
          "output_type": "stream",
          "text": [
            "Python Jupyer\n"
          ]
        }
      ],
      "source": [
        "print(\"Python\" + \" Jupyer\")"
      ]
    },
    {
      "cell_type": "code",
      "execution_count": null,
      "id": "a831799d-5a3e-4b9b-8020-062f670ab55d",
      "metadata": {
        "id": "a831799d-5a3e-4b9b-8020-062f670ab55d",
        "outputId": "d6a78647-7b9a-40ef-e73a-6cb2e9b604c9"
      },
      "outputs": [
        {
          "name": "stdout",
          "output_type": "stream",
          "text": [
            "Python Jupyter\n"
          ]
        }
      ],
      "source": [
        "print(\"Python\", \"Jupyter\")"
      ]
    },
    {
      "cell_type": "code",
      "execution_count": null,
      "id": "0b694a0b-68c2-45e7-9cff-d77c78f0b0c6",
      "metadata": {
        "id": "0b694a0b-68c2-45e7-9cff-d77c78f0b0c6",
        "outputId": "391872b1-8656-4692-accf-2fe47a6d88fc"
      },
      "outputs": [
        {
          "name": "stdout",
          "output_type": "stream",
          "text": [
            "Python JupyerPython JupyerPython Jupyer\n"
          ]
        }
      ],
      "source": [
        "print(\"Python Jupyer\" *3)"
      ]
    },
    {
      "cell_type": "code",
      "execution_count": null,
      "id": "d9ef9c43-e27e-4172-9349-d2e29251fcf5",
      "metadata": {
        "id": "d9ef9c43-e27e-4172-9349-d2e29251fcf5"
      },
      "outputs": [],
      "source": []
    },
    {
      "cell_type": "markdown",
      "id": "7234f8b5-d330-4755-955d-483755260678",
      "metadata": {
        "id": "7234f8b5-d330-4755-955d-483755260678"
      },
      "source": [
        "# reverse string like pro"
      ]
    },
    {
      "cell_type": "code",
      "execution_count": null,
      "id": "d881d22c-e2a6-4f7c-9a68-de1a7ef83ce4",
      "metadata": {
        "id": "d881d22c-e2a6-4f7c-9a68-de1a7ef83ce4",
        "outputId": "c08f9182-1fd6-4f34-f0e9-0ce710a4887a"
      },
      "outputs": [
        {
          "name": "stdout",
          "output_type": "stream",
          "text": [
            "retypuJ nohtyP\n"
          ]
        }
      ],
      "source": [
        "string = \"Python Jupyter\"\n",
        "\n",
        "print(string[::-1])"
      ]
    },
    {
      "cell_type": "code",
      "execution_count": null,
      "id": "cdbba283-7613-4095-b4e2-292ccc6d8758",
      "metadata": {
        "id": "cdbba283-7613-4095-b4e2-292ccc6d8758",
        "outputId": "76fb770b-05a8-4430-df09-7cfbb62d274f"
      },
      "outputs": [
        {
          "ename": "TypeError",
          "evalue": "'str' object is not callable",
          "output_type": "error",
          "traceback": [
            "\u001b[1;31m---------------------------------------------------------------------------\u001b[0m",
            "\u001b[1;31mTypeError\u001b[0m                                 Traceback (most recent call last)",
            "Cell \u001b[1;32mIn[80], line 3\u001b[0m\n\u001b[0;32m      1\u001b[0m number \u001b[38;5;241m=\u001b[39m \u001b[38;5;241m123456\u001b[39m\n\u001b[1;32m----> 3\u001b[0m reverse_number \u001b[38;5;241m=\u001b[39m \u001b[38;5;28mstr\u001b[39m(number)[::\u001b[38;5;241m-\u001b[39m\u001b[38;5;241m1\u001b[39m]\n\u001b[0;32m      5\u001b[0m \u001b[38;5;28mprint\u001b[39m(reverse_number)\n",
            "\u001b[1;31mTypeError\u001b[0m: 'str' object is not callable"
          ]
        }
      ],
      "source": [
        "number = 123456\n",
        "\n",
        "reverse_number = str(number)[::-1]\n",
        "\n",
        "print(reverse_number)"
      ]
    },
    {
      "cell_type": "code",
      "execution_count": null,
      "id": "bb2520de-163d-40da-a055-f302ea569d29",
      "metadata": {
        "id": "bb2520de-163d-40da-a055-f302ea569d29",
        "outputId": "c18f2258-dd64-4a5d-d675-ab387af1eaac"
      },
      "outputs": [
        {
          "ename": "TypeError",
          "evalue": "'str' object is not callable",
          "output_type": "error",
          "traceback": [
            "\u001b[1;31m---------------------------------------------------------------------------\u001b[0m",
            "\u001b[1;31mTypeError\u001b[0m                                 Traceback (most recent call last)",
            "Cell \u001b[1;32mIn[81], line 2\u001b[0m\n\u001b[0;32m      1\u001b[0m number \u001b[38;5;241m=\u001b[39m \u001b[38;5;241m123456\u001b[39m\n\u001b[1;32m----> 2\u001b[0m \u001b[38;5;28mprint\u001b[39m(\u001b[38;5;28mstr\u001b[39m(number)[::\u001b[38;5;241m-\u001b[39m\u001b[38;5;241m1\u001b[39m])\n",
            "\u001b[1;31mTypeError\u001b[0m: 'str' object is not callable"
          ]
        }
      ],
      "source": [
        "number = 123456\n",
        "print(str(number)[::-1])\n"
      ]
    },
    {
      "cell_type": "code",
      "execution_count": null,
      "id": "33b8583e-11cb-4da2-9213-9b5c8130eefb",
      "metadata": {
        "id": "33b8583e-11cb-4da2-9213-9b5c8130eefb"
      },
      "outputs": [],
      "source": []
    },
    {
      "cell_type": "code",
      "execution_count": null,
      "id": "7633154f-1ff7-47d7-a9e6-0d8f52e93bb6",
      "metadata": {
        "id": "7633154f-1ff7-47d7-a9e6-0d8f52e93bb6",
        "outputId": "8dd2ee97-2f35-4205-8407-6b4631a6f289"
      },
      "outputs": [
        {
          "ename": "TypeError",
          "evalue": "'str' object is not callable",
          "output_type": "error",
          "traceback": [
            "\u001b[1;31m---------------------------------------------------------------------------\u001b[0m",
            "\u001b[1;31mTypeError\u001b[0m                                 Traceback (most recent call last)",
            "Cell \u001b[1;32mIn[82], line 1\u001b[0m\n\u001b[1;32m----> 1\u001b[0m rev_number \u001b[38;5;241m=\u001b[39m \u001b[38;5;124m'\u001b[39m\u001b[38;5;124m'\u001b[39m\u001b[38;5;241m.\u001b[39mjoin(\u001b[38;5;28mreversed\u001b[39m(\u001b[38;5;28mstr\u001b[39m(number)))\n\u001b[0;32m      3\u001b[0m \u001b[38;5;28mprint\u001b[39m(rev_number)\n",
            "\u001b[1;31mTypeError\u001b[0m: 'str' object is not callable"
          ]
        }
      ],
      "source": [
        "rev_number = ''.join(reversed(str(number)))\n",
        "\n",
        "print(rev_number)"
      ]
    },
    {
      "cell_type": "code",
      "execution_count": null,
      "id": "b8c68565-7ea4-446c-97e6-73bbc0b2f4e6",
      "metadata": {
        "id": "b8c68565-7ea4-446c-97e6-73bbc0b2f4e6"
      },
      "outputs": [],
      "source": []
    },
    {
      "cell_type": "markdown",
      "id": "780f2d74-1ac5-43aa-a4c9-b74a5fa193d7",
      "metadata": {
        "id": "780f2d74-1ac5-43aa-a4c9-b74a5fa193d7"
      },
      "source": [
        "### *Explain the difference between list, tuple and dictionary*"
      ]
    },
    {
      "cell_type": "markdown",
      "id": "b522cd3b-7f0b-44ca-9d6b-424444fad5a2",
      "metadata": {
        "id": "b522cd3b-7f0b-44ca-9d6b-424444fad5a2"
      },
      "source": [
        "*List*:\n",
        "- A list is an ordered collection of items which is mutable (i.e., the items can be changed).\n",
        "- Lists are defined using square brackets `[]`.\n",
        "- Example: `my_list = [1, 2, 3, 4]`\n",
        "\n",
        "*Tuple*:\n",
        "- A tuple is an ordered collection of items which is immutable (i.e., the items cannot be changed once defined).\n",
        "- Tuples are defined using parentheses `()`.\n",
        "- Example: `my_tuple = (1, 2, 3, 4)`\n",
        "\n",
        "*Dictionary*:\n",
        "- A dictionary is an unordered collection of key-value pairs which is mutable.\n",
        "- Dictionaries are defined using curly braces `{}`.\n",
        "- Example: `my_dict = {'a': 1, 'b': 2, 'c': 3}`"
      ]
    },
    {
      "cell_type": "markdown",
      "id": "7912d579-5ced-4741-bda7-c883157d7385",
      "metadata": {
        "id": "7912d579-5ced-4741-bda7-c883157d7385"
      },
      "source": []
    },
    {
      "cell_type": "code",
      "execution_count": null,
      "id": "31fdfcc3-8808-426a-9ddb-9c2cc04976f9",
      "metadata": {
        "id": "31fdfcc3-8808-426a-9ddb-9c2cc04976f9",
        "outputId": "a948aadf-4874-4d05-d63b-e5c00ee672ff"
      },
      "outputs": [
        {
          "data": {
            "text/plain": [
              "{'a': 1, 'b': 2, 'c': 3}"
            ]
          },
          "execution_count": 84,
          "metadata": {},
          "output_type": "execute_result"
        }
      ],
      "source": [
        "my_dict = {'a': 1, 'b': 2, 'c': 3}\n",
        "\n",
        "my_dict"
      ]
    },
    {
      "cell_type": "code",
      "execution_count": null,
      "id": "99dda7eb-9d9a-4f8e-b2d6-6a912a8492b3",
      "metadata": {
        "id": "99dda7eb-9d9a-4f8e-b2d6-6a912a8492b3"
      },
      "outputs": [],
      "source": []
    },
    {
      "cell_type": "markdown",
      "id": "2eaacc21-25da-4810-b024-4e4dd51291df",
      "metadata": {
        "id": "2eaacc21-25da-4810-b024-4e4dd51291df"
      },
      "source": [
        "## *How do you handle missing values in pandas dataframe*"
      ]
    },
    {
      "cell_type": "markdown",
      "id": "52db7d6a-b633-4175-9154-2ef59aa0a927",
      "metadata": {
        "id": "52db7d6a-b633-4175-9154-2ef59aa0a927"
      },
      "source": [
        "*It is a common task in data pre processing and data cleaning.*\n",
        "*Firstly identify the missing values.*\n"
      ]
    },
    {
      "cell_type": "code",
      "execution_count": null,
      "id": "66b85840-661c-4277-9e49-4a4d07a01b85",
      "metadata": {
        "id": "66b85840-661c-4277-9e49-4a4d07a01b85",
        "outputId": "93964482-c853-4922-811c-4c2a413b8d9a"
      },
      "outputs": [
        {
          "data": {
            "text/html": [
              "<div>\n",
              "<style scoped>\n",
              "    .dataframe tbody tr th:only-of-type {\n",
              "        vertical-align: middle;\n",
              "    }\n",
              "\n",
              "    .dataframe tbody tr th {\n",
              "        vertical-align: top;\n",
              "    }\n",
              "\n",
              "    .dataframe thead th {\n",
              "        text-align: right;\n",
              "    }\n",
              "</style>\n",
              "<table border=\"1\" class=\"dataframe\">\n",
              "  <thead>\n",
              "    <tr style=\"text-align: right;\">\n",
              "      <th></th>\n",
              "      <th>A</th>\n",
              "      <th>B</th>\n",
              "      <th>C</th>\n",
              "    </tr>\n",
              "  </thead>\n",
              "  <tbody>\n",
              "    <tr>\n",
              "      <th>0</th>\n",
              "      <td>1.0</td>\n",
              "      <td>NaN</td>\n",
              "      <td>1.0</td>\n",
              "    </tr>\n",
              "    <tr>\n",
              "      <th>1</th>\n",
              "      <td>2.0</td>\n",
              "      <td>2.0</td>\n",
              "      <td>NaN</td>\n",
              "    </tr>\n",
              "    <tr>\n",
              "      <th>2</th>\n",
              "      <td>NaN</td>\n",
              "      <td>3.0</td>\n",
              "      <td>3.0</td>\n",
              "    </tr>\n",
              "    <tr>\n",
              "      <th>3</th>\n",
              "      <td>4.0</td>\n",
              "      <td>NaN</td>\n",
              "      <td>4.0</td>\n",
              "    </tr>\n",
              "    <tr>\n",
              "      <th>4</th>\n",
              "      <td>5.0</td>\n",
              "      <td>5.0</td>\n",
              "      <td>NaN</td>\n",
              "    </tr>\n",
              "  </tbody>\n",
              "</table>\n",
              "</div>"
            ],
            "text/plain": [
              "     A    B    C\n",
              "0  1.0  NaN  1.0\n",
              "1  2.0  2.0  NaN\n",
              "2  NaN  3.0  3.0\n",
              "3  4.0  NaN  4.0\n",
              "4  5.0  5.0  NaN"
            ]
          },
          "execution_count": 88,
          "metadata": {},
          "output_type": "execute_result"
        }
      ],
      "source": [
        "import pandas as pd\n",
        "\n",
        "data = {\n",
        "         'A': [1,2, None,4,5],\n",
        "         'B': [None, 2,3,None,5],\n",
        "         'C' : [1,None,3,4,None]\n",
        "}\n",
        "\n",
        "df =pd.DataFrame(data)\n",
        "df\n",
        "\n",
        "\n",
        "\n"
      ]
    },
    {
      "cell_type": "code",
      "execution_count": null,
      "id": "71c6981e-8ce1-4401-8c5d-35d98cb0f12d",
      "metadata": {
        "id": "71c6981e-8ce1-4401-8c5d-35d98cb0f12d",
        "outputId": "e9e6cffc-ab3a-4376-9902-3707f52eb7d3"
      },
      "outputs": [
        {
          "name": "stdout",
          "output_type": "stream",
          "text": [
            "       A      B      C\n",
            "0  False   True  False\n",
            "1  False  False   True\n",
            "2   True  False  False\n",
            "3  False   True  False\n",
            "4  False  False   True\n"
          ]
        }
      ],
      "source": [
        "#Identifing missing values\n",
        "\n",
        "print(df.isnull())"
      ]
    },
    {
      "cell_type": "code",
      "execution_count": null,
      "id": "95b7fc35-fff9-4a18-aed0-ccc08ff85adc",
      "metadata": {
        "id": "95b7fc35-fff9-4a18-aed0-ccc08ff85adc",
        "outputId": "6fa4c029-1959-4dfc-9a8d-9d4ccd895a98"
      },
      "outputs": [
        {
          "data": {
            "text/html": [
              "<div>\n",
              "<style scoped>\n",
              "    .dataframe tbody tr th:only-of-type {\n",
              "        vertical-align: middle;\n",
              "    }\n",
              "\n",
              "    .dataframe tbody tr th {\n",
              "        vertical-align: top;\n",
              "    }\n",
              "\n",
              "    .dataframe thead th {\n",
              "        text-align: right;\n",
              "    }\n",
              "</style>\n",
              "<table border=\"1\" class=\"dataframe\">\n",
              "  <thead>\n",
              "    <tr style=\"text-align: right;\">\n",
              "      <th></th>\n",
              "      <th>A</th>\n",
              "      <th>B</th>\n",
              "      <th>C</th>\n",
              "    </tr>\n",
              "  </thead>\n",
              "  <tbody>\n",
              "  </tbody>\n",
              "</table>\n",
              "</div>"
            ],
            "text/plain": [
              "Empty DataFrame\n",
              "Columns: [A, B, C]\n",
              "Index: []"
            ]
          },
          "execution_count": 90,
          "metadata": {},
          "output_type": "execute_result"
        }
      ],
      "source": [
        "df.dropna()\n"
      ]
    },
    {
      "cell_type": "code",
      "execution_count": null,
      "id": "7422b664-fb58-4ed9-841e-cca9cb071fc8",
      "metadata": {
        "scrolled": true,
        "id": "7422b664-fb58-4ed9-841e-cca9cb071fc8",
        "outputId": "6618c12a-0058-4b5a-e665-217f6a1e8a37"
      },
      "outputs": [
        {
          "data": {
            "text/html": [
              "<div>\n",
              "<style scoped>\n",
              "    .dataframe tbody tr th:only-of-type {\n",
              "        vertical-align: middle;\n",
              "    }\n",
              "\n",
              "    .dataframe tbody tr th {\n",
              "        vertical-align: top;\n",
              "    }\n",
              "\n",
              "    .dataframe thead th {\n",
              "        text-align: right;\n",
              "    }\n",
              "</style>\n",
              "<table border=\"1\" class=\"dataframe\">\n",
              "  <thead>\n",
              "    <tr style=\"text-align: right;\">\n",
              "      <th></th>\n",
              "      <th>A</th>\n",
              "      <th>B</th>\n",
              "      <th>C</th>\n",
              "    </tr>\n",
              "  </thead>\n",
              "  <tbody>\n",
              "    <tr>\n",
              "      <th>0</th>\n",
              "      <td>1.0</td>\n",
              "      <td>NaN</td>\n",
              "      <td>1.0</td>\n",
              "    </tr>\n",
              "    <tr>\n",
              "      <th>1</th>\n",
              "      <td>2.0</td>\n",
              "      <td>2.0</td>\n",
              "      <td>NaN</td>\n",
              "    </tr>\n",
              "    <tr>\n",
              "      <th>2</th>\n",
              "      <td>NaN</td>\n",
              "      <td>3.0</td>\n",
              "      <td>3.0</td>\n",
              "    </tr>\n",
              "    <tr>\n",
              "      <th>3</th>\n",
              "      <td>4.0</td>\n",
              "      <td>NaN</td>\n",
              "      <td>4.0</td>\n",
              "    </tr>\n",
              "    <tr>\n",
              "      <th>4</th>\n",
              "      <td>5.0</td>\n",
              "      <td>5.0</td>\n",
              "      <td>NaN</td>\n",
              "    </tr>\n",
              "  </tbody>\n",
              "</table>\n",
              "</div>"
            ],
            "text/plain": [
              "     A    B    C\n",
              "0  1.0  NaN  1.0\n",
              "1  2.0  2.0  NaN\n",
              "2  NaN  3.0  3.0\n",
              "3  4.0  NaN  4.0\n",
              "4  5.0  5.0  NaN"
            ]
          },
          "execution_count": 92,
          "metadata": {},
          "output_type": "execute_result"
        }
      ],
      "source": [
        "df\n"
      ]
    },
    {
      "cell_type": "code",
      "execution_count": null,
      "id": "d836234f-fece-4a70-864b-35585d456de7",
      "metadata": {
        "id": "d836234f-fece-4a70-864b-35585d456de7",
        "outputId": "ab60a0f7-086a-424d-8eed-3995741d74e8"
      },
      "outputs": [
        {
          "data": {
            "text/html": [
              "<div>\n",
              "<style scoped>\n",
              "    .dataframe tbody tr th:only-of-type {\n",
              "        vertical-align: middle;\n",
              "    }\n",
              "\n",
              "    .dataframe tbody tr th {\n",
              "        vertical-align: top;\n",
              "    }\n",
              "\n",
              "    .dataframe thead th {\n",
              "        text-align: right;\n",
              "    }\n",
              "</style>\n",
              "<table border=\"1\" class=\"dataframe\">\n",
              "  <thead>\n",
              "    <tr style=\"text-align: right;\">\n",
              "      <th></th>\n",
              "      <th>A</th>\n",
              "      <th>B</th>\n",
              "      <th>C</th>\n",
              "    </tr>\n",
              "  </thead>\n",
              "  <tbody>\n",
              "    <tr>\n",
              "      <th>0</th>\n",
              "      <td>1.0</td>\n",
              "      <td>0.0</td>\n",
              "      <td>1.0</td>\n",
              "    </tr>\n",
              "    <tr>\n",
              "      <th>1</th>\n",
              "      <td>2.0</td>\n",
              "      <td>2.0</td>\n",
              "      <td>0.0</td>\n",
              "    </tr>\n",
              "    <tr>\n",
              "      <th>2</th>\n",
              "      <td>0.0</td>\n",
              "      <td>3.0</td>\n",
              "      <td>3.0</td>\n",
              "    </tr>\n",
              "    <tr>\n",
              "      <th>3</th>\n",
              "      <td>4.0</td>\n",
              "      <td>0.0</td>\n",
              "      <td>4.0</td>\n",
              "    </tr>\n",
              "    <tr>\n",
              "      <th>4</th>\n",
              "      <td>5.0</td>\n",
              "      <td>5.0</td>\n",
              "      <td>0.0</td>\n",
              "    </tr>\n",
              "  </tbody>\n",
              "</table>\n",
              "</div>"
            ],
            "text/plain": [
              "     A    B    C\n",
              "0  1.0  0.0  1.0\n",
              "1  2.0  2.0  0.0\n",
              "2  0.0  3.0  3.0\n",
              "3  4.0  0.0  4.0\n",
              "4  5.0  5.0  0.0"
            ]
          },
          "execution_count": 94,
          "metadata": {},
          "output_type": "execute_result"
        }
      ],
      "source": [
        "filled= df.fillna(0)\n",
        "\n",
        "filled"
      ]
    },
    {
      "cell_type": "markdown",
      "id": "5753ef9b-ed85-4bff-a7d0-6fef4e6a5886",
      "metadata": {
        "id": "5753ef9b-ed85-4bff-a7d0-6fef4e6a5886"
      },
      "source": []
    },
    {
      "cell_type": "markdown",
      "id": "c880d3bc-d69b-45b2-babe-cae77bbfda11",
      "metadata": {
        "id": "c880d3bc-d69b-45b2-babe-cae77bbfda11"
      },
      "source": [
        "# What are Lambda functions and where do we use them?"
      ]
    },
    {
      "cell_type": "code",
      "execution_count": null,
      "id": "847c1c43-4700-4522-af2b-b2a8b318b7f3",
      "metadata": {
        "id": "847c1c43-4700-4522-af2b-b2a8b318b7f3",
        "outputId": "7476e7cd-6115-4c45-db24-42ca5a29f366"
      },
      "outputs": [
        {
          "name": "stdout",
          "output_type": "stream",
          "text": [
            "2\n"
          ]
        }
      ],
      "source": [
        "add_1 = lambda x:x+1\n",
        "\n",
        "Result = add_1(1)\n",
        "\n",
        "print(Result)"
      ]
    },
    {
      "cell_type": "code",
      "execution_count": null,
      "id": "ef02530a-e69e-4dcc-8522-d279fa0f2e6f",
      "metadata": {
        "id": "ef02530a-e69e-4dcc-8522-d279fa0f2e6f",
        "outputId": "32999106-ea98-4d4d-a1fb-0989a8095dbd"
      },
      "outputs": [
        {
          "data": {
            "text/plain": [
              "8"
            ]
          },
          "execution_count": 101,
          "metadata": {},
          "output_type": "execute_result"
        }
      ],
      "source": [
        "add_2 = lambda x,y:x+y\n",
        "\n",
        "Res = add_2(1,7)  #passing 2 parameters x,y\n",
        "\n",
        "Res"
      ]
    },
    {
      "cell_type": "markdown",
      "id": "9de37ab5-a6bc-4f8c-8a2e-59da066557e9",
      "metadata": {
        "id": "9de37ab5-a6bc-4f8c-8a2e-59da066557e9"
      },
      "source": [
        "## MAP function"
      ]
    },
    {
      "cell_type": "code",
      "execution_count": null,
      "id": "dda6867e-3e08-45ad-beb5-acd3937384c1",
      "metadata": {
        "id": "dda6867e-3e08-45ad-beb5-acd3937384c1",
        "outputId": "ac656bf8-fa0e-4eb9-ff93-cb04ed7b1436"
      },
      "outputs": [
        {
          "data": {
            "text/plain": [
              "[1, 4, 9, 16, 25, 36, 49, 64]"
            ]
          },
          "execution_count": 102,
          "metadata": {},
          "output_type": "execute_result"
        }
      ],
      "source": [
        "my_numbers = [1,2,3,4,5,6,7,8]\n",
        "\n",
        "def square(x):\n",
        "    return x**2\n",
        "\n",
        "squares = list(map(square, my_numbers))\n",
        "\n",
        "squares"
      ]
    },
    {
      "cell_type": "code",
      "execution_count": null,
      "id": "3d022c9f-b8a2-4434-ae50-5435da181e61",
      "metadata": {
        "id": "3d022c9f-b8a2-4434-ae50-5435da181e61"
      },
      "outputs": [],
      "source": []
    },
    {
      "cell_type": "code",
      "execution_count": null,
      "id": "3ca3cd4b-b277-4b5e-bc80-93dd15868d8b",
      "metadata": {
        "id": "3ca3cd4b-b277-4b5e-bc80-93dd15868d8b",
        "outputId": "2595a6a7-a866-4337-b3da-7812bd4eec2a"
      },
      "outputs": [
        {
          "data": {
            "text/plain": [
              "[1, 4, 9, 16, 25, 36, 49, 64]"
            ]
          },
          "execution_count": 103,
          "metadata": {},
          "output_type": "execute_result"
        }
      ],
      "source": [
        "lambda_numbers = [1,2,3,4,5,6,7,8]\n",
        "\n",
        "square_1 = list(map(lambda x:x**2, lambda_numbers))\n",
        "\n",
        "square_1"
      ]
    },
    {
      "cell_type": "code",
      "execution_count": null,
      "id": "5cfffd5e-658b-4cdd-9ac1-566dc44507ff",
      "metadata": {
        "id": "5cfffd5e-658b-4cdd-9ac1-566dc44507ff"
      },
      "outputs": [],
      "source": []
    },
    {
      "cell_type": "code",
      "execution_count": null,
      "id": "497afaed-fde8-4ec6-8371-5060f6d0bb4a",
      "metadata": {
        "id": "497afaed-fde8-4ec6-8371-5060f6d0bb4a"
      },
      "outputs": [],
      "source": []
    }
  ],
  "metadata": {
    "kernelspec": {
      "display_name": "Python 3 (ipykernel)",
      "language": "python",
      "name": "python3"
    },
    "language_info": {
      "codemirror_mode": {
        "name": "ipython",
        "version": 3
      },
      "file_extension": ".py",
      "mimetype": "text/x-python",
      "name": "python",
      "nbconvert_exporter": "python",
      "pygments_lexer": "ipython3",
      "version": "3.11.7"
    },
    "colab": {
      "provenance": [],
      "include_colab_link": true
    }
  },
  "nbformat": 4,
  "nbformat_minor": 5
}