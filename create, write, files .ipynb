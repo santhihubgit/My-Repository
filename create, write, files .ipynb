{
 "cells": [
  {
   "cell_type": "code",
   "execution_count": 8,
   "id": "c935a9fd-c7b2-4225-8a98-4f611d7dd1d3",
   "metadata": {
    "scrolled": true
   },
   "outputs": [
    {
     "data": {
      "text/html": [
       "<div>\n",
       "<style scoped>\n",
       "    .dataframe tbody tr th:only-of-type {\n",
       "        vertical-align: middle;\n",
       "    }\n",
       "\n",
       "    .dataframe tbody tr th {\n",
       "        vertical-align: top;\n",
       "    }\n",
       "\n",
       "    .dataframe thead th {\n",
       "        text-align: right;\n",
       "    }\n",
       "</style>\n",
       "<table border=\"1\" class=\"dataframe\">\n",
       "  <thead>\n",
       "    <tr style=\"text-align: right;\">\n",
       "      <th></th>\n",
       "      <th>USA</th>\n",
       "      <th>408238</th>\n",
       "      <th>72</th>\n",
       "      <th>4048399</th>\n",
       "      <th>40358</th>\n",
       "      <th>0</th>\n",
       "      <th>99.01</th>\n",
       "      <th>0.99</th>\n",
       "      <th>1711947/n Russia</th>\n",
       "      <th>408238.1</th>\n",
       "      <th>72.1</th>\n",
       "      <th>4048399.1</th>\n",
       "      <th>40358.1</th>\n",
       "      <th>0.1</th>\n",
       "      <th>99.01.1</th>\n",
       "      <th>0.99.1</th>\n",
       "      <th>11947</th>\n",
       "    </tr>\n",
       "  </thead>\n",
       "  <tbody>\n",
       "  </tbody>\n",
       "</table>\n",
       "</div>"
      ],
      "text/plain": [
       "Empty DataFrame\n",
       "Columns: [USA, 408238, 72, 4048399, 40358, 0, 99.01, 0.99, 1711947/n Russia, 408238.1, 72.1, 4048399.1, 40358.1, 0.1, 99.01.1, 0.99.1, 11947]\n",
       "Index: []"
      ]
     },
     "execution_count": 8,
     "metadata": {},
     "output_type": "execute_result"
    }
   ],
   "source": [
    "import pandas as pd\n",
    "\n",
    "df.tail()"
   ]
  },
  {
   "cell_type": "code",
   "execution_count": 9,
   "id": "cfc17c86-47ee-4e24-b4fe-5427b5453a56",
   "metadata": {},
   "outputs": [
    {
     "name": "stdout",
     "output_type": "stream",
     "text": [
      "Now the file has more content!Now the file has more content!Now the file has more content!\n"
     ]
    }
   ],
   "source": [
    "f = open(\"demofile2.txt\", \"a\")      # a for append\n",
    "f.write(\"Now the file has more content!\")\n",
    "f.close()\n",
    "\n",
    "#open and read the file after the appending:\n",
    "f = open(\"demofile2.txt\", \"r\")\n",
    "print(f.read())"
   ]
  },
  {
   "cell_type": "code",
   "execution_count": null,
   "id": "02e36d35-9b22-44e8-8530-e7c871c1f997",
   "metadata": {},
   "outputs": [],
   "source": []
  },
  {
   "cell_type": "code",
   "execution_count": 10,
   "id": "3c40d218-c4c2-4898-b378-2fe408b00c93",
   "metadata": {},
   "outputs": [
    {
     "name": "stdout",
     "output_type": "stream",
     "text": [
      "Woops! I have deleted the content!\n"
     ]
    }
   ],
   "source": [
    "f = open(\"demofile3.txt\", \"w\")     # w for overwrite content\n",
    "f.write(\"Woops! I have deleted the content!\")\n",
    "f.close()\n",
    "\n",
    "#open and read the file after the overwriting:\n",
    "f = open(\"demofile3.txt\", \"r\")\n",
    "print(f.read())"
   ]
  },
  {
   "cell_type": "code",
   "execution_count": null,
   "id": "91f3bba8-ef14-4831-8ac2-a456cdef7c55",
   "metadata": {},
   "outputs": [],
   "source": []
  },
  {
   "cell_type": "markdown",
   "id": "a433fb48-09bf-458e-9023-71b0c7ba5385",
   "metadata": {},
   "source": [
    "## check in pandas ipy file for more info "
   ]
  },
  {
   "cell_type": "code",
   "execution_count": null,
   "id": "c590741a-fc95-48bb-9a8e-bb3b9919cf25",
   "metadata": {},
   "outputs": [],
   "source": []
  },
  {
   "cell_type": "code",
   "execution_count": null,
   "id": "01b3a02d-c912-4dcd-972c-0d6e220eec3a",
   "metadata": {},
   "outputs": [],
   "source": []
  }
 ],
 "metadata": {
  "kernelspec": {
   "display_name": "Python 3 (ipykernel)",
   "language": "python",
   "name": "python3"
  },
  "language_info": {
   "codemirror_mode": {
    "name": "ipython",
    "version": 3
   },
   "file_extension": ".py",
   "mimetype": "text/x-python",
   "name": "python",
   "nbconvert_exporter": "python",
   "pygments_lexer": "ipython3",
   "version": "3.11.7"
  }
 },
 "nbformat": 4,
 "nbformat_minor": 5
}
