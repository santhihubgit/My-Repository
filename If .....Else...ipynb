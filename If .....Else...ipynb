{
 "cells": [
  {
   "cell_type": "code",
   "execution_count": null,
   "id": "5bb7f928-791f-4319-afe0-c05839fd224a",
   "metadata": {},
   "outputs": [],
   "source": [
    "a = 19\n",
    "b = 1100\n",
    "\n",
    "if b<a:\n",
    "    print(\"b greater than a\")   # condition not satisfied "
   ]
  },
  {
   "cell_type": "code",
   "execution_count": null,
   "id": "485c4981-76aa-4738-8d00-df41838904c1",
   "metadata": {},
   "outputs": [],
   "source": []
  },
  {
   "cell_type": "code",
   "execution_count": null,
   "id": "e6aeeb19-599c-454e-bc2e-e421881ae89d",
   "metadata": {},
   "outputs": [
    {
     "name": "stdout",
     "output_type": "stream",
     "text": [
      "b greater than a\n"
     ]
    }
   ],
   "source": [
    "if b>a:\n",
    "    print(\"b greater than a\")\n"
   ]
  },
  {
   "cell_type": "code",
   "execution_count": null,
   "id": "38b452cc-ca23-4ecc-a099-613275aea8f3",
   "metadata": {},
   "outputs": [
    {
     "name": "stdout",
     "output_type": "stream",
     "text": [
      "a and b are equal\n"
     ]
    }
   ],
   "source": [
    "a =33 \n",
    "b =33\n",
    "if b>a:\n",
    "    print(\"b greater than a\")\n",
    "elif a==b:\n",
    "     print(\"a and b are equal\")\n",
    "else:\n",
    "    print(\"a less than b\")"
   ]
  },
  {
   "cell_type": "code",
   "execution_count": null,
   "id": "afeec507-9265-4844-ac61-311621aee6ca",
   "metadata": {},
   "outputs": [],
   "source": []
  },
  {
   "cell_type": "markdown",
   "id": "d991c70f-94b9-4ca0-bcc9-fcc6544dc7af",
   "metadata": {},
   "source": [
    "## short hand if .. else "
   ]
  },
  {
   "cell_type": "code",
   "execution_count": null,
   "id": "eddf87a2-4725-4a5c-9d65-17c1dafdb67b",
   "metadata": {},
   "outputs": [
    {
     "name": "stdout",
     "output_type": "stream",
     "text": [
      "B\n"
     ]
    }
   ],
   "source": [
    "a =2 \n",
    "b =10\n",
    "\n",
    "print(\"A\") if a>b else print(\"B\")"
   ]
  },
  {
   "cell_type": "code",
   "execution_count": null,
   "id": "75d94951-c649-4673-9187-1daf4ddcbfcd",
   "metadata": {},
   "outputs": [],
   "source": []
  },
  {
   "cell_type": "code",
   "execution_count": null,
   "id": "36d8e4dd-f659-4671-bf2a-018b25fbf4e5",
   "metadata": {
    "scrolled": true
   },
   "outputs": [
    {
     "name": "stdout",
     "output_type": "stream",
     "text": [
      "=\n"
     ]
    }
   ],
   "source": [
    "a =33\n",
    "b =33\n",
    "\n",
    "print(\"A\") if a>b else print(\"=\") if a==b else print(\"B\")"
   ]
  },
  {
   "cell_type": "code",
   "execution_count": null,
   "id": "d7dd57bb-03c9-48f1-84fd-b2db8e4e1e34",
   "metadata": {},
   "outputs": [],
   "source": []
  },
  {
   "cell_type": "markdown",
   "id": "b73e9341-3c0b-4ab4-8718-650712808642",
   "metadata": {},
   "source": [
    "## Pass statements"
   ]
  },
  {
   "cell_type": "code",
   "execution_count": null,
   "id": "fff86e5d-3fa7-44bc-92ac-b58ea1e89ed0",
   "metadata": {},
   "outputs": [],
   "source": [
    "a =33 \n",
    "b =100\n",
    "\n",
    "if b>a:\n",
    "    pass    # to avoid getting an error"
   ]
  },
  {
   "cell_type": "code",
   "execution_count": null,
   "id": "6f9ac43d-1676-4d72-bd2e-b1e2cd6a186f",
   "metadata": {},
   "outputs": [],
   "source": []
  },
  {
   "cell_type": "markdown",
   "id": "f25dc990-6cd2-4e27-82d5-118abeaf2619",
   "metadata": {},
   "source": [
    "## Nested if "
   ]
  },
  {
   "cell_type": "code",
   "execution_count": null,
   "id": "42fa1142-4703-4433-add7-d29b24126ff1",
   "metadata": {},
   "outputs": [
    {
     "name": "stdout",
     "output_type": "stream",
     "text": [
      "But not above :\n"
     ]
    }
   ],
   "source": [
    "x =900\n",
    "\n",
    "if x>1000:\n",
    "    print(\"Above 1000: \")\n",
    "    if x==100:\n",
    "       print(\"equal to 100:\")\n",
    "else:\n",
    "    print(\"But not above :\")"
   ]
  },
  {
   "cell_type": "code",
   "execution_count": null,
   "id": "2f2c62e2-28cd-468a-b590-becc064ea5d9",
   "metadata": {},
   "outputs": [],
   "source": []
  },
  {
   "cell_type": "markdown",
   "id": "1646748e-b945-4c92-a9aa-a49b436f8a09",
   "metadata": {},
   "source": [
    "## placeholder parameters"
   ]
  },
  {
   "cell_type": "code",
   "execution_count": null,
   "id": "f4783b9d-a3a1-451e-b3b2-cd819851fbf3",
   "metadata": {},
   "outputs": [
    {
     "name": "stdout",
     "output_type": "stream",
     "text": [
      "My name is John & Iam 38 old\n"
     ]
    }
   ],
   "source": [
    "age =38\n",
    "txt = \"My name is John & Iam {} old\"\n",
    "\n",
    "print(txt.format(age))"
   ]
  },
  {
   "cell_type": "code",
   "execution_count": null,
   "id": "a9e9a9c5-73f8-4162-9547-09e60bf686ac",
   "metadata": {},
   "outputs": [],
   "source": []
  },
  {
   "cell_type": "code",
   "execution_count": null,
   "id": "d9400b16-c516-444c-a49b-bf87f3910f9f",
   "metadata": {},
   "outputs": [
    {
     "name": "stdout",
     "output_type": "stream",
     "text": [
      "W\n"
     ]
    }
   ],
   "source": [
    "a = (\"Hello World\")\n",
    "print(a[6])"
   ]
  },
  {
   "cell_type": "markdown",
   "id": "8be34241-6314-4fd3-b787-531b27b3c89b",
   "metadata": {},
   "source": [
    "## looping through string"
   ]
  },
  {
   "cell_type": "code",
   "execution_count": null,
   "id": "debe79ea-929d-484e-a660-5da5bcedb54b",
   "metadata": {},
   "outputs": [
    {
     "name": "stdout",
     "output_type": "stream",
     "text": [
      "b\n",
      "a\n",
      "n\n",
      "a\n",
      "n\n",
      "a\n"
     ]
    }
   ],
   "source": [
    "for x in \"banana\":\n",
    "    print(x)"
   ]
  },
  {
   "cell_type": "code",
   "execution_count": null,
   "id": "87b455d5-a79e-4676-8b88-0b4a2358f366",
   "metadata": {},
   "outputs": [
    {
     "name": "stdout",
     "output_type": "stream",
     "text": [
      "1\n"
     ]
    }
   ],
   "source": [
    "print(len(x))"
   ]
  },
  {
   "cell_type": "code",
   "execution_count": null,
   "id": "42acc6db-5c5b-4652-9cee-3fb00e986a48",
   "metadata": {},
   "outputs": [
    {
     "name": "stdout",
     "output_type": "stream",
     "text": [
      "11\n"
     ]
    }
   ],
   "source": [
    "print(len(a))"
   ]
  },
  {
   "cell_type": "code",
   "execution_count": null,
   "id": "b2ebbdcc-3c79-49c5-a303-ec0d76c9e08c",
   "metadata": {},
   "outputs": [],
   "source": []
  },
  {
   "cell_type": "code",
   "execution_count": null,
   "id": "900fd8e1-e8e5-4187-a9b8-78ef42b34e6c",
   "metadata": {},
   "outputs": [
    {
     "name": "stdout",
     "output_type": "stream",
     "text": [
      "False\n"
     ]
    }
   ],
   "source": [
    "txt =\"The best things of life are winnings!\"\n",
    "print(\"free\" in txt)"
   ]
  },
  {
   "cell_type": "code",
   "execution_count": null,
   "id": "5c024a3d-9fa2-4bdb-a7d3-e93848ec1af5",
   "metadata": {},
   "outputs": [],
   "source": []
  },
  {
   "cell_type": "code",
   "execution_count": null,
   "id": "e0c7df37-fef6-491e-8ed4-222062c71930",
   "metadata": {},
   "outputs": [
    {
     "name": "stdout",
     "output_type": "stream",
     "text": [
      "Yes: Word is present\n"
     ]
    }
   ],
   "source": [
    "txt = \"The best things in life are winnings!\"\n",
    "if \"winnings\" in txt:\n",
    "    print(\"Yes: Word is present\")\n",
    "    "
   ]
  },
  {
   "cell_type": "code",
   "execution_count": null,
   "id": "36e53946-aa3d-4552-a2af-ab25d87797f7",
   "metadata": {},
   "outputs": [],
   "source": []
  },
  {
   "cell_type": "code",
   "execution_count": null,
   "id": "7cf5d9f2-0926-453d-96c1-9839985ae69c",
   "metadata": {},
   "outputs": [
    {
     "name": "stdout",
     "output_type": "stream",
     "text": [
      "No: word is not present\n"
     ]
    }
   ],
   "source": [
    "txt = \"The best things in life are winnings!\"\n",
    "if \"Winnings\" in txt:\n",
    "    print(\"Yes: Word is present\")\n",
    "else:\n",
    "    print(\"No: word is not present\")"
   ]
  },
  {
   "cell_type": "code",
   "execution_count": null,
   "id": "f3511d8c-a5ed-4de3-964f-5e662d8122b1",
   "metadata": {},
   "outputs": [],
   "source": [
    "a=3\n",
    "b=5\n",
    "if(a>b):\n",
    "    print(\"a is big\")\n",
    "\n",
    "else:\n",
    "    print(\"b is big\")"
   ]
  },
  {
   "cell_type": "code",
   "execution_count": null,
   "id": "a5e6ee66",
   "metadata": {},
   "outputs": [],
   "source": []
  }
 ],
 "metadata": {
  "kernelspec": {
   "display_name": "Python 3 (ipykernel)",
   "language": "python",
   "name": "python3"
  },
  "language_info": {
   "codemirror_mode": {
    "name": "ipython",
    "version": 3
   },
   "file_extension": ".py",
   "mimetype": "text/x-python",
   "name": "python",
   "nbconvert_exporter": "python",
   "pygments_lexer": "ipython3",
   "version": "3.11.7"
  }
 },
 "nbformat": 4,
 "nbformat_minor": 5
}
